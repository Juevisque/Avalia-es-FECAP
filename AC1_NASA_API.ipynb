{
  "nbformat": 4,
  "nbformat_minor": 0,
  "metadata": {
    "colab": {
      "provenance": []
    },
    "kernelspec": {
      "name": "python3",
      "display_name": "Python 3"
    },
    "language_info": {
      "name": "python"
    }
  },
  "cells": [
    {
      "cell_type": "code",
      "execution_count": 26,
      "metadata": {
        "colab": {
          "base_uri": "https://localhost:8080/"
        },
        "id": "1O7A0HQ8yckS",
        "outputId": "c7d9f345-219f-431b-cf8e-2fbb84593a91"
      },
      "outputs": [
        {
          "output_type": "stream",
          "name": "stdout",
          "text": [
            "Nome da câmera:  http://mars.jpl.nasa.gov/msl-raw-images/proj/msl/redops/ods/surface/sol/01000/opgs/edr/fcam/FLB_486265257EDR_F0481570FHAZ00323M_.JPG\n"
          ]
        }
      ],
      "source": [
        "import requests\n",
        "import json\n",
        "\n",
        "# Pegando informações do banco de dados\n",
        "api_key = \"9EPDcpqLEjyLZ9VVEldkqailzr72rhE32Cd95Lno\"\n",
        "url = requests.get(f\"https://api.nasa.gov/mars-photos/api/v1/rovers/curiosity/photos?sol=1000&camera=fhaz&api_key={api_key}\")\n",
        "\n",
        "# Definindo Variáveis específicas para a formatação\n",
        "data = url.text\n",
        "info = json.loads(data)\n",
        "nome = info[\"photos\"][0]['img_src']\n",
        "\n",
        "print(\"Link da Imagem: \", nome)\n",
        "\n",
        "\n",
        "\n",
        "\n",
        "\n",
        "\n",
        "\n",
        "\n",
        "\n",
        "\n",
        "\n",
        "\n"
      ]
    }
  ]
}